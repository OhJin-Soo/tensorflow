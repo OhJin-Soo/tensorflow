{
  "nbformat": 4,
  "nbformat_minor": 0,
  "metadata": {
    "colab": {
      "provenance": [],
      "toc_visible": true,
      "gpuType": "T4",
      "authorship_tag": "ABX9TyM+R83VV0zr0VUUQAEA3Ie1",
      "include_colab_link": true
    },
    "kernelspec": {
      "name": "python3",
      "display_name": "Python 3"
    },
    "language_info": {
      "name": "python"
    },
    "accelerator": "GPU"
  },
  "cells": [
    {
      "cell_type": "markdown",
      "metadata": {
        "id": "view-in-github",
        "colab_type": "text"
      },
      "source": [
        "<a href=\"https://colab.research.google.com/github/OhJin-Soo/tensorflow/blob/main/deep_%26_wide.ipynb\" target=\"_parent\"><img src=\"https://colab.research.google.com/assets/colab-badge.svg\" alt=\"Open In Colab\"/></a>"
      ]
    },
    {
      "cell_type": "code",
      "source": [
        "import tensorflow as tf\n",
        "from sklearn.model_selection import train_test_split"
      ],
      "metadata": {
        "id": "AgTFGGBofjhj"
      },
      "execution_count": null,
      "outputs": []
    },
    {
      "cell_type": "code",
      "execution_count": null,
      "metadata": {
        "id": "0FosV-vUejoI"
      },
      "outputs": [],
      "source": [
        "from sklearn.datasets import fetch_california_housing\n",
        "housing = fetch_california_housing()\n",
        "X_train_full, X_test, y_train_full, y_test = train_test_split(\n",
        "    housing.data, housing.target, random_state=42)\n",
        "X_train, X_valid, y_train, y_valid = train_test_split(\n",
        "    X_train_full, y_train_full, random_state=42)"
      ]
    },
    {
      "cell_type": "code",
      "source": [
        "tf.keras.backend.clear_session()\n",
        "tf.random.set_seed(42)"
      ],
      "metadata": {
        "id": "zJjQACqkoNuq"
      },
      "execution_count": null,
      "outputs": []
    },
    {
      "cell_type": "markdown",
      "source": [
        "## Functional API"
      ],
      "metadata": {
        "id": "1KzADep9_jTs"
      }
    },
    {
      "cell_type": "code",
      "source": [
        "X_train_wide, X_train_deep = X_train[:, :5], X_train[:, 2:]\n",
        "X_valid_wide, X_valid_deep = X_valid[:, :5], X_valid[:, 2:]\n",
        "X_test_wide, X_test_deep = X_test[:, :5], X_test[:, 2:]\n",
        "X_new_wide, X_new_deep = X_test_wide[:3], X_test_deep[:3]"
      ],
      "metadata": {
        "id": "Y3rG5g44Bwk5"
      },
      "execution_count": null,
      "outputs": []
    },
    {
      "cell_type": "code",
      "source": [
        "input_wide = tf.keras.layers.Input(shape=[5])  # 특성 0 ~ 4\n",
        "input_deep = tf.keras.layers.Input(shape=[6])  # 특성 2 ~ 7\n",
        "norm_layer_wide = tf.keras.layers.Normalization()\n",
        "norm_layer_deep = tf.keras.layers.Normalization()\n",
        "norm_wide = norm_layer_wide(input_wide)\n",
        "norm_deep = norm_layer_deep(input_deep)\n",
        "hidden1 = tf.keras.layers.Dense(30, activation=\"relu\")(norm_deep)\n",
        "hidden2 = tf.keras.layers.Dense(30, activation=\"relu\")(hidden1)\n",
        "concat = tf.keras.layers.concatenate([norm_wide, hidden2])\n",
        "output = tf.keras.layers.Dense(1)(concat)\n",
        "aux_output = tf.keras.layers.Dense(1)(hidden2)\n",
        "model = tf.keras.Model(inputs=[input_wide, input_deep],\n",
        "                       outputs=[output, aux_output])"
      ],
      "metadata": {
        "id": "2vEWjV98oTrN"
      },
      "execution_count": null,
      "outputs": []
    },
    {
      "cell_type": "code",
      "source": [
        "optimizer = tf.keras.optimizers.Adam(learning_rate=1e-3)\n",
        "model.compile(loss=(\"mse\", \"mse\"), loss_weights=(0.9, 0.1), optimizer=optimizer,\n",
        "              metrics=[\"RootMeanSquaredError\", \"RootMeanSquaredError\"])"
      ],
      "metadata": {
        "id": "YyA-TeuToWYw"
      },
      "execution_count": null,
      "outputs": []
    },
    {
      "cell_type": "code",
      "source": [
        "norm_layer_wide.adapt(X_train_wide)\n",
        "norm_layer_deep.adapt(X_train_deep)\n",
        "history = model.fit(\n",
        "    (X_train_wide, X_train_deep), (y_train, y_train), epochs=20,\n",
        "    validation_data=((X_valid_wide, X_valid_deep), (y_valid, y_valid))\n",
        ")"
      ],
      "metadata": {
        "colab": {
          "base_uri": "https://localhost:8080/"
        },
        "id": "zTUIIxI7oYfO",
        "outputId": "446faecb-b536-4e46-d575-5917160850e6"
      },
      "execution_count": null,
      "outputs": [
        {
          "output_type": "stream",
          "name": "stdout",
          "text": [
            "Epoch 1/20\n",
            "\u001b[1m363/363\u001b[0m \u001b[32m━━━━━━━━━━━━━━━━━━━━\u001b[0m\u001b[37m\u001b[0m \u001b[1m7s\u001b[0m 11ms/step - dense_2_RootMeanSquaredError: 1.5791 - dense_2_loss: 2.6061 - dense_3_RootMeanSquaredError: 1.9193 - dense_3_loss: 3.7692 - loss: 2.7225 - val_dense_2_RootMeanSquaredError: 0.8511 - val_dense_2_loss: 0.7241 - val_dense_3_RootMeanSquaredError: 3.4449 - val_dense_3_loss: 11.8617 - val_loss: 1.8386\n",
            "Epoch 2/20\n",
            "\u001b[1m363/363\u001b[0m \u001b[32m━━━━━━━━━━━━━━━━━━━━\u001b[0m\u001b[37m\u001b[0m \u001b[1m1s\u001b[0m 3ms/step - dense_2_RootMeanSquaredError: 0.7249 - dense_2_loss: 0.5261 - dense_3_RootMeanSquaredError: 0.9657 - dense_3_loss: 0.9335 - loss: 0.5669 - val_dense_2_RootMeanSquaredError: 0.6540 - val_dense_2_loss: 0.4276 - val_dense_3_RootMeanSquaredError: 2.3411 - val_dense_3_loss: 5.4781 - val_loss: 0.9330\n",
            "Epoch 3/20\n",
            "\u001b[1m363/363\u001b[0m \u001b[32m━━━━━━━━━━━━━━━━━━━━\u001b[0m\u001b[37m\u001b[0m \u001b[1m1s\u001b[0m 3ms/step - dense_2_RootMeanSquaredError: 0.6714 - dense_2_loss: 0.4511 - dense_3_RootMeanSquaredError: 0.7915 - dense_3_loss: 0.6266 - loss: 0.4686 - val_dense_2_RootMeanSquaredError: 0.6188 - val_dense_2_loss: 0.3828 - val_dense_3_RootMeanSquaredError: 1.6852 - val_dense_3_loss: 2.8386 - val_loss: 0.6286\n",
            "Epoch 4/20\n",
            "\u001b[1m363/363\u001b[0m \u001b[32m━━━━━━━━━━━━━━━━━━━━\u001b[0m\u001b[37m\u001b[0m \u001b[1m1s\u001b[0m 3ms/step - dense_2_RootMeanSquaredError: 0.6470 - dense_2_loss: 0.4188 - dense_3_RootMeanSquaredError: 0.7483 - dense_3_loss: 0.5602 - loss: 0.4330 - val_dense_2_RootMeanSquaredError: 0.6658 - val_dense_2_loss: 0.4431 - val_dense_3_RootMeanSquaredError: 1.2674 - val_dense_3_loss: 1.6058 - val_loss: 0.5596\n",
            "Epoch 5/20\n",
            "\u001b[1m363/363\u001b[0m \u001b[32m━━━━━━━━━━━━━━━━━━━━\u001b[0m\u001b[37m\u001b[0m \u001b[1m1s\u001b[0m 3ms/step - dense_2_RootMeanSquaredError: 0.6313 - dense_2_loss: 0.3988 - dense_3_RootMeanSquaredError: 0.7266 - dense_3_loss: 0.5281 - loss: 0.4117 - val_dense_2_RootMeanSquaredError: 0.6554 - val_dense_2_loss: 0.4294 - val_dense_3_RootMeanSquaredError: 0.9932 - val_dense_3_loss: 0.9862 - val_loss: 0.4852\n",
            "Epoch 6/20\n",
            "\u001b[1m363/363\u001b[0m \u001b[32m━━━━━━━━━━━━━━━━━━━━\u001b[0m\u001b[37m\u001b[0m \u001b[1m1s\u001b[0m 3ms/step - dense_2_RootMeanSquaredError: 0.6200 - dense_2_loss: 0.3846 - dense_3_RootMeanSquaredError: 0.7088 - dense_3_loss: 0.5026 - loss: 0.3964 - val_dense_2_RootMeanSquaredError: 0.6100 - val_dense_2_loss: 0.3720 - val_dense_3_RootMeanSquaredError: 0.8508 - val_dense_3_loss: 0.7237 - val_loss: 0.4073\n",
            "Epoch 7/20\n",
            "\u001b[1m363/363\u001b[0m \u001b[32m━━━━━━━━━━━━━━━━━━━━\u001b[0m\u001b[37m\u001b[0m \u001b[1m1s\u001b[0m 4ms/step - dense_2_RootMeanSquaredError: 0.6109 - dense_2_loss: 0.3733 - dense_3_RootMeanSquaredError: 0.6934 - dense_3_loss: 0.4810 - loss: 0.3841 - val_dense_2_RootMeanSquaredError: 0.7063 - val_dense_2_loss: 0.4988 - val_dense_3_RootMeanSquaredError: 0.8020 - val_dense_3_loss: 0.6430 - val_loss: 0.5133\n",
            "Epoch 8/20\n",
            "\u001b[1m363/363\u001b[0m \u001b[32m━━━━━━━━━━━━━━━━━━━━\u001b[0m\u001b[37m\u001b[0m \u001b[1m2s\u001b[0m 4ms/step - dense_2_RootMeanSquaredError: 0.6043 - dense_2_loss: 0.3653 - dense_3_RootMeanSquaredError: 0.6825 - dense_3_loss: 0.4659 - loss: 0.3754 - val_dense_2_RootMeanSquaredError: 0.5850 - val_dense_2_loss: 0.3422 - val_dense_3_RootMeanSquaredError: 0.7260 - val_dense_3_loss: 0.5270 - val_loss: 0.3608\n",
            "Epoch 9/20\n",
            "\u001b[1m363/363\u001b[0m \u001b[32m━━━━━━━━━━━━━━━━━━━━\u001b[0m\u001b[37m\u001b[0m \u001b[1m2s\u001b[0m 3ms/step - dense_2_RootMeanSquaredError: 0.5982 - dense_2_loss: 0.3580 - dense_3_RootMeanSquaredError: 0.6722 - dense_3_loss: 0.4520 - loss: 0.3674 - val_dense_2_RootMeanSquaredError: 1.0553 - val_dense_2_loss: 1.1131 - val_dense_3_RootMeanSquaredError: 0.7326 - val_dense_3_loss: 0.5366 - val_loss: 1.0559\n",
            "Epoch 10/20\n",
            "\u001b[1m363/363\u001b[0m \u001b[32m━━━━━━━━━━━━━━━━━━━━\u001b[0m\u001b[37m\u001b[0m \u001b[1m1s\u001b[0m 3ms/step - dense_2_RootMeanSquaredError: 0.5957 - dense_2_loss: 0.3550 - dense_3_RootMeanSquaredError: 0.6653 - dense_3_loss: 0.4428 - loss: 0.3637 - val_dense_2_RootMeanSquaredError: 1.4799 - val_dense_2_loss: 2.1890 - val_dense_3_RootMeanSquaredError: 0.7785 - val_dense_3_loss: 0.6059 - val_loss: 2.0316\n",
            "Epoch 11/20\n",
            "\u001b[1m363/363\u001b[0m \u001b[32m━━━━━━━━━━━━━━━━━━━━\u001b[0m\u001b[37m\u001b[0m \u001b[1m3s\u001b[0m 3ms/step - dense_2_RootMeanSquaredError: 0.5944 - dense_2_loss: 0.3534 - dense_3_RootMeanSquaredError: 0.6581 - dense_3_loss: 0.4332 - loss: 0.3614 - val_dense_2_RootMeanSquaredError: 1.8741 - val_dense_2_loss: 3.5106 - val_dense_3_RootMeanSquaredError: 0.6394 - val_dense_3_loss: 0.4088 - val_loss: 3.2020\n",
            "Epoch 12/20\n",
            "\u001b[1m363/363\u001b[0m \u001b[32m━━━━━━━━━━━━━━━━━━━━\u001b[0m\u001b[37m\u001b[0m \u001b[1m3s\u001b[0m 3ms/step - dense_2_RootMeanSquaredError: 0.5967 - dense_2_loss: 0.3562 - dense_3_RootMeanSquaredError: 0.6556 - dense_3_loss: 0.4298 - loss: 0.3635 - val_dense_2_RootMeanSquaredError: 1.7645 - val_dense_2_loss: 3.1118 - val_dense_3_RootMeanSquaredError: 0.8759 - val_dense_3_loss: 0.7670 - val_loss: 2.8787\n",
            "Epoch 13/20\n",
            "\u001b[1m363/363\u001b[0m \u001b[32m━━━━━━━━━━━━━━━━━━━━\u001b[0m\u001b[37m\u001b[0m \u001b[1m1s\u001b[0m 3ms/step - dense_2_RootMeanSquaredError: 0.5940 - dense_2_loss: 0.3529 - dense_3_RootMeanSquaredError: 0.6485 - dense_3_loss: 0.4206 - loss: 0.3597 - val_dense_2_RootMeanSquaredError: 1.1422 - val_dense_2_loss: 1.3040 - val_dense_3_RootMeanSquaredError: 0.6451 - val_dense_3_loss: 0.4161 - val_loss: 1.2157\n",
            "Epoch 14/20\n",
            "\u001b[1m363/363\u001b[0m \u001b[32m━━━━━━━━━━━━━━━━━━━━\u001b[0m\u001b[37m\u001b[0m \u001b[1m1s\u001b[0m 4ms/step - dense_2_RootMeanSquaredError: 0.5866 - dense_2_loss: 0.3441 - dense_3_RootMeanSquaredError: 0.6455 - dense_3_loss: 0.4168 - loss: 0.3514 - val_dense_2_RootMeanSquaredError: 0.8111 - val_dense_2_loss: 0.6576 - val_dense_3_RootMeanSquaredError: 0.7565 - val_dense_3_loss: 0.5722 - val_loss: 0.6493\n",
            "Epoch 15/20\n",
            "\u001b[1m363/363\u001b[0m \u001b[32m━━━━━━━━━━━━━━━━━━━━\u001b[0m\u001b[37m\u001b[0m \u001b[1m2s\u001b[0m 3ms/step - dense_2_RootMeanSquaredError: 0.5821 - dense_2_loss: 0.3389 - dense_3_RootMeanSquaredError: 0.6395 - dense_3_loss: 0.4091 - loss: 0.3460 - val_dense_2_RootMeanSquaredError: 0.7355 - val_dense_2_loss: 0.5408 - val_dense_3_RootMeanSquaredError: 0.6253 - val_dense_3_loss: 0.3910 - val_loss: 0.5260\n",
            "Epoch 16/20\n",
            "\u001b[1m363/363\u001b[0m \u001b[32m━━━━━━━━━━━━━━━━━━━━\u001b[0m\u001b[37m\u001b[0m \u001b[1m1s\u001b[0m 3ms/step - dense_2_RootMeanSquaredError: 0.5803 - dense_2_loss: 0.3368 - dense_3_RootMeanSquaredError: 0.6370 - dense_3_loss: 0.4058 - loss: 0.3437 - val_dense_2_RootMeanSquaredError: 0.6260 - val_dense_2_loss: 0.3918 - val_dense_3_RootMeanSquaredError: 0.6830 - val_dense_3_loss: 0.4664 - val_loss: 0.3994\n",
            "Epoch 17/20\n",
            "\u001b[1m363/363\u001b[0m \u001b[32m━━━━━━━━━━━━━━━━━━━━\u001b[0m\u001b[37m\u001b[0m \u001b[1m1s\u001b[0m 3ms/step - dense_2_RootMeanSquaredError: 0.5777 - dense_2_loss: 0.3337 - dense_3_RootMeanSquaredError: 0.6328 - dense_3_loss: 0.4005 - loss: 0.3404 - val_dense_2_RootMeanSquaredError: 0.6969 - val_dense_2_loss: 0.4855 - val_dense_3_RootMeanSquaredError: 0.6215 - val_dense_3_loss: 0.3862 - val_loss: 0.4757\n",
            "Epoch 18/20\n",
            "\u001b[1m363/363\u001b[0m \u001b[32m━━━━━━━━━━━━━━━━━━━━\u001b[0m\u001b[37m\u001b[0m \u001b[1m1s\u001b[0m 4ms/step - dense_2_RootMeanSquaredError: 0.5765 - dense_2_loss: 0.3324 - dense_3_RootMeanSquaredError: 0.6299 - dense_3_loss: 0.3969 - loss: 0.3388 - val_dense_2_RootMeanSquaredError: 0.6372 - val_dense_2_loss: 0.4059 - val_dense_3_RootMeanSquaredError: 0.6689 - val_dense_3_loss: 0.4473 - val_loss: 0.4102\n",
            "Epoch 19/20\n",
            "\u001b[1m363/363\u001b[0m \u001b[32m━━━━━━━━━━━━━━━━━━━━\u001b[0m\u001b[37m\u001b[0m \u001b[1m1s\u001b[0m 3ms/step - dense_2_RootMeanSquaredError: 0.5741 - dense_2_loss: 0.3297 - dense_3_RootMeanSquaredError: 0.6260 - dense_3_loss: 0.3920 - loss: 0.3359 - val_dense_2_RootMeanSquaredError: 0.8282 - val_dense_2_loss: 0.6857 - val_dense_3_RootMeanSquaredError: 0.6252 - val_dense_3_loss: 0.3909 - val_loss: 0.6565\n",
            "Epoch 20/20\n",
            "\u001b[1m363/363\u001b[0m \u001b[32m━━━━━━━━━━━━━━━━━━━━\u001b[0m\u001b[37m\u001b[0m \u001b[1m1s\u001b[0m 3ms/step - dense_2_RootMeanSquaredError: 0.5734 - dense_2_loss: 0.3289 - dense_3_RootMeanSquaredError: 0.6242 - dense_3_loss: 0.3897 - loss: 0.3350 - val_dense_2_RootMeanSquaredError: 1.1108 - val_dense_2_loss: 1.2333 - val_dense_3_RootMeanSquaredError: 1.1130 - val_dense_3_loss: 1.2383 - val_loss: 1.2343\n"
          ]
        }
      ]
    },
    {
      "cell_type": "code",
      "source": [
        "eval_results = model.evaluate((X_test_wide, X_test_deep), (y_test, y_test))\n",
        "weighted_sum_of_losses, main_rmse, aux_rmse = eval_results[:3]"
      ],
      "metadata": {
        "colab": {
          "base_uri": "https://localhost:8080/"
        },
        "id": "eQ9aB8_RobHV",
        "outputId": "a715471e-929c-4447-96e9-58363fb4ffa5"
      },
      "execution_count": null,
      "outputs": [
        {
          "output_type": "stream",
          "name": "stdout",
          "text": [
            "\u001b[1m162/162\u001b[0m \u001b[32m━━━━━━━━━━━━━━━━━━━━\u001b[0m\u001b[37m\u001b[0m \u001b[1m1s\u001b[0m 5ms/step - dense_2_RootMeanSquaredError: 0.5883 - dense_2_loss: 0.3462 - dense_3_RootMeanSquaredError: 0.6369 - dense_3_loss: 0.4058 - loss: 0.3521\n"
          ]
        }
      ]
    },
    {
      "cell_type": "code",
      "source": [
        "y_pred_main, y_pred_aux = model.predict((X_new_wide, X_new_deep))"
      ],
      "metadata": {
        "colab": {
          "base_uri": "https://localhost:8080/"
        },
        "id": "vsTaMfOXoejG",
        "outputId": "9901213a-de9a-43e3-8f41-b3c0591ab2b3"
      },
      "execution_count": null,
      "outputs": [
        {
          "output_type": "stream",
          "name": "stdout",
          "text": [
            "\u001b[1m1/1\u001b[0m \u001b[32m━━━━━━━━━━━━━━━━━━━━\u001b[0m\u001b[37m\u001b[0m \u001b[1m0s\u001b[0m 365ms/step\n"
          ]
        }
      ]
    },
    {
      "cell_type": "code",
      "source": [
        "y_pred_tuple = model.predict((X_new_wide, X_new_deep))\n",
        "y_pred = dict(zip(model.output_names, y_pred_tuple))"
      ],
      "metadata": {
        "colab": {
          "base_uri": "https://localhost:8080/"
        },
        "id": "A_08ACWVogtb",
        "outputId": "a23ebcaf-31df-42d7-e0a7-de9a96bea240"
      },
      "execution_count": null,
      "outputs": [
        {
          "output_type": "stream",
          "name": "stdout",
          "text": [
            "\u001b[1m1/1\u001b[0m \u001b[32m━━━━━━━━━━━━━━━━━━━━\u001b[0m\u001b[37m\u001b[0m \u001b[1m0s\u001b[0m 30ms/step\n"
          ]
        }
      ]
    },
    {
      "cell_type": "markdown",
      "source": [
        "## Subclassing API"
      ],
      "metadata": {
        "id": "yPpQWZE7_oj_"
      }
    },
    {
      "cell_type": "code",
      "source": [
        "import keras\n",
        "\n",
        "@keras.saving.register_keras_serializable()\n",
        "class WideAndDeepModel(tf.keras.Model):\n",
        "    def __init__(self, units=30, activation=\"relu\", **kwargs):\n",
        "        super().__init__(**kwargs)\n",
        "        self.norm_layer_wide = tf.keras.layers.Normalization()\n",
        "        self.norm_layer_deep = tf.keras.layers.Normalization()\n",
        "        self.hidden1 = tf.keras.layers.Dense(units, activation=activation)\n",
        "        self.hidden2 = tf.keras.layers.Dense(units, activation=activation)\n",
        "        self.main_output = tf.keras.layers.Dense(1)\n",
        "        self.aux_output = tf.keras.layers.Dense(1)\n",
        "\n",
        "    def call(self, inputs):\n",
        "        input_wide, input_deep = inputs\n",
        "        norm_wide = self.norm_layer_wide(input_wide)\n",
        "        norm_deep = self.norm_layer_deep(input_deep)\n",
        "        hidden1 = self.hidden1(norm_deep)\n",
        "        hidden2 = self.hidden2(hidden1)\n",
        "        concat = tf.keras.layers.concatenate([norm_wide, hidden2])\n",
        "        output = self.main_output(concat)\n",
        "        aux_output = self.aux_output(hidden2)\n",
        "        return output, aux_output\n",
        "\n",
        "tf.random.set_seed(42)\n",
        "model = WideAndDeepModel(30, activation=\"relu\", name=\"my_cool_model\")"
      ],
      "metadata": {
        "id": "7zK6yeRn_q0W"
      },
      "execution_count": null,
      "outputs": []
    },
    {
      "cell_type": "code",
      "source": [
        "optimizer = tf.keras.optimizers.Adam(learning_rate=1e-3)\n",
        "model.compile(loss=[\"mse\", \"mse\"], loss_weights=[0.9, 0.1], optimizer=optimizer,\n",
        "              metrics=[\"RootMeanSquaredError\", \"RootMeanSquaredError\"])\n",
        "model.norm_layer_wide.adapt(X_train_wide)\n",
        "model.norm_layer_deep.adapt(X_train_deep)\n",
        "history = model.fit(\n",
        "    (X_train_wide, X_train_deep), (y_train, y_train), epochs=10,\n",
        "    validation_data=((X_valid_wide, X_valid_deep), (y_valid, y_valid)))\n",
        "eval_results = model.evaluate((X_test_wide, X_test_deep), (y_test, y_test))\n",
        "y_pred_main, y_pred_aux = model.predict((X_new_wide, X_new_deep))"
      ],
      "metadata": {
        "colab": {
          "base_uri": "https://localhost:8080/"
        },
        "id": "nefW6DPQ_zBj",
        "outputId": "5af10ee9-3446-442c-fc79-7130665d628a"
      },
      "execution_count": null,
      "outputs": [
        {
          "output_type": "stream",
          "name": "stdout",
          "text": [
            "Epoch 1/10\n",
            "\u001b[1m363/363\u001b[0m \u001b[32m━━━━━━━━━━━━━━━━━━━━\u001b[0m\u001b[37m\u001b[0m \u001b[1m6s\u001b[0m 9ms/step - RootMeanSquaredError: 1.6634 - RootMeanSquaredError_1: 1.7407 - loss: 2.9073 - mse_loss: 3.1157 - val_RootMeanSquaredError: 1.1397 - val_RootMeanSquaredError_1: 1.3322 - val_loss: 1.3464 - val_mse_loss: 1.7741\n",
            "Epoch 2/10\n",
            "\u001b[1m363/363\u001b[0m \u001b[32m━━━━━━━━━━━━━━━━━━━━\u001b[0m\u001b[37m\u001b[0m \u001b[1m2s\u001b[0m 3ms/step - RootMeanSquaredError: 0.7662 - RootMeanSquaredError_1: 0.9027 - loss: 0.6105 - mse_loss: 0.8162 - val_RootMeanSquaredError: 0.7398 - val_RootMeanSquaredError_1: 0.8071 - val_loss: 0.5577 - val_mse_loss: 0.6514\n",
            "Epoch 3/10\n",
            "\u001b[1m363/363\u001b[0m \u001b[32m━━━━━━━━━━━━━━━━━━━━\u001b[0m\u001b[37m\u001b[0m \u001b[1m1s\u001b[0m 3ms/step - RootMeanSquaredError: 0.6887 - RootMeanSquaredError_1: 0.7835 - loss: 0.4885 - mse_loss: 0.6140 - val_RootMeanSquaredError: 0.6397 - val_RootMeanSquaredError_1: 0.7538 - val_loss: 0.4252 - val_mse_loss: 0.5681\n",
            "Epoch 4/10\n",
            "\u001b[1m363/363\u001b[0m \u001b[32m━━━━━━━━━━━━━━━━━━━━\u001b[0m\u001b[37m\u001b[0m \u001b[1m1s\u001b[0m 3ms/step - RootMeanSquaredError: 0.6585 - RootMeanSquaredError_1: 0.7505 - loss: 0.4468 - mse_loss: 0.5634 - val_RootMeanSquaredError: 0.6210 - val_RootMeanSquaredError_1: 0.7327 - val_loss: 0.4008 - val_mse_loss: 0.5367\n",
            "Epoch 5/10\n",
            "\u001b[1m363/363\u001b[0m \u001b[32m━━━━━━━━━━━━━━━━━━━━\u001b[0m\u001b[37m\u001b[0m \u001b[1m1s\u001b[0m 3ms/step - RootMeanSquaredError: 0.6410 - RootMeanSquaredError_1: 0.7303 - loss: 0.4233 - mse_loss: 0.5335 - val_RootMeanSquaredError: 0.6968 - val_RootMeanSquaredError_1: 0.7608 - val_loss: 0.4948 - val_mse_loss: 0.5786\n",
            "Epoch 6/10\n",
            "\u001b[1m363/363\u001b[0m \u001b[32m━━━━━━━━━━━━━━━━━━━━\u001b[0m\u001b[37m\u001b[0m \u001b[1m1s\u001b[0m 4ms/step - RootMeanSquaredError: 0.6305 - RootMeanSquaredError_1: 0.7178 - loss: 0.4095 - mse_loss: 0.5154 - val_RootMeanSquaredError: 0.8144 - val_RootMeanSquaredError_1: 1.0574 - val_loss: 0.7088 - val_mse_loss: 1.1177\n",
            "Epoch 7/10\n",
            "\u001b[1m363/363\u001b[0m \u001b[32m━━━━━━━━━━━━━━━━━━━━\u001b[0m\u001b[37m\u001b[0m \u001b[1m2s\u001b[0m 3ms/step - RootMeanSquaredError: 0.6230 - RootMeanSquaredError_1: 0.7077 - loss: 0.3996 - mse_loss: 0.5009 - val_RootMeanSquaredError: 0.8816 - val_RootMeanSquaredError_1: 0.9728 - val_loss: 0.7942 - val_mse_loss: 0.9460\n",
            "Epoch 8/10\n",
            "\u001b[1m363/363\u001b[0m \u001b[32m━━━━━━━━━━━━━━━━━━━━\u001b[0m\u001b[37m\u001b[0m \u001b[1m1s\u001b[0m 4ms/step - RootMeanSquaredError: 0.6177 - RootMeanSquaredError_1: 0.7001 - loss: 0.3926 - mse_loss: 0.4902 - val_RootMeanSquaredError: 1.0690 - val_RootMeanSquaredError_1: 1.0611 - val_loss: 1.1410 - val_mse_loss: 1.1255\n",
            "Epoch 9/10\n",
            "\u001b[1m363/363\u001b[0m \u001b[32m━━━━━━━━━━━━━━━━━━━━\u001b[0m\u001b[37m\u001b[0m \u001b[1m2s\u001b[0m 3ms/step - RootMeanSquaredError: 0.6131 - RootMeanSquaredError_1: 0.6891 - loss: 0.3859 - mse_loss: 0.4750 - val_RootMeanSquaredError: 1.0941 - val_RootMeanSquaredError_1: 0.8703 - val_loss: 1.1530 - val_mse_loss: 0.7572\n",
            "Epoch 10/10\n",
            "\u001b[1m363/363\u001b[0m \u001b[32m━━━━━━━━━━━━━━━━━━━━\u001b[0m\u001b[37m\u001b[0m \u001b[1m1s\u001b[0m 3ms/step - RootMeanSquaredError: 0.6084 - RootMeanSquaredError_1: 0.6822 - loss: 0.3798 - mse_loss: 0.4655 - val_RootMeanSquaredError: 1.2347 - val_RootMeanSquaredError_1: 1.4759 - val_loss: 1.5900 - val_mse_loss: 2.1773\n",
            "\u001b[1m162/162\u001b[0m \u001b[32m━━━━━━━━━━━━━━━━━━━━\u001b[0m\u001b[37m\u001b[0m \u001b[1m1s\u001b[0m 4ms/step - RootMeanSquaredError: 0.6004 - RootMeanSquaredError_1: 0.6761 - loss: 0.3703 - mse_loss: 0.4572\n",
            "\u001b[1m1/1\u001b[0m \u001b[32m━━━━━━━━━━━━━━━━━━━━\u001b[0m\u001b[37m\u001b[0m \u001b[1m0s\u001b[0m 287ms/step\n"
          ]
        }
      ]
    },
    {
      "cell_type": "code",
      "source": [
        "import shutil\n",
        "\n",
        "shutil.rmtree(\"my_keras_model\", ignore_errors=True)"
      ],
      "metadata": {
        "id": "SSx8T3GY_31C"
      },
      "execution_count": null,
      "outputs": []
    },
    {
      "cell_type": "code",
      "source": [
        "model.save(\"my_keras_model.keras\")"
      ],
      "metadata": {
        "id": "d3dIvq0F_9rb"
      },
      "execution_count": null,
      "outputs": []
    },
    {
      "cell_type": "code",
      "source": [
        "model = tf.keras.models.load_model(\"my_keras_model.keras\")\n",
        "y_pred_main, y_pred_aux = model.predict((X_new_wide, X_new_deep))"
      ],
      "metadata": {
        "colab": {
          "base_uri": "https://localhost:8080/"
        },
        "id": "jG8VUHwLAArE",
        "outputId": "670403da-c109-468f-b874-0115bfc28f74"
      },
      "execution_count": null,
      "outputs": [
        {
          "output_type": "stream",
          "name": "stdout",
          "text": [
            "\u001b[1m1/1\u001b[0m \u001b[32m━━━━━━━━━━━━━━━━━━━━\u001b[0m\u001b[37m\u001b[0m \u001b[1m0s\u001b[0m 272ms/step\n"
          ]
        }
      ]
    },
    {
      "cell_type": "code",
      "source": [
        "model.save_weights(\"my_weights.weights.h5\")"
      ],
      "metadata": {
        "id": "CpM-w2C-AExU"
      },
      "execution_count": null,
      "outputs": []
    },
    {
      "cell_type": "code",
      "source": [
        "model.load_weights(\"my_weights.weights.h5\")"
      ],
      "metadata": {
        "id": "u9dvE2EBAFdi"
      },
      "execution_count": null,
      "outputs": []
    },
    {
      "cell_type": "code",
      "source": [
        "model.save(\"my_model.keras\")"
      ],
      "metadata": {
        "id": "zgof9-2tAID8"
      },
      "execution_count": null,
      "outputs": []
    },
    {
      "cell_type": "code",
      "source": [
        "shutil.rmtree(\"my_checkpoints\", ignore_errors=True)"
      ],
      "metadata": {
        "id": "viMfLIuRALg1"
      },
      "execution_count": null,
      "outputs": []
    },
    {
      "cell_type": "code",
      "source": [
        "checkpoint_cb = tf.keras.callbacks.ModelCheckpoint(\"my_checkpoints.weights.h5\",\n",
        "                                                   save_weights_only=True)\n",
        "history = model.fit(\n",
        "    (X_train_wide, X_train_deep), (y_train, y_train), epochs=10,\n",
        "    validation_data=((X_valid_wide, X_valid_deep), (y_valid, y_valid)),\n",
        "    callbacks=[checkpoint_cb])"
      ],
      "metadata": {
        "colab": {
          "base_uri": "https://localhost:8080/"
        },
        "id": "u_yJT_lYAP6Q",
        "outputId": "0f2b96e3-d943-4052-8a45-7d068f6078c2"
      },
      "execution_count": null,
      "outputs": [
        {
          "output_type": "stream",
          "name": "stdout",
          "text": [
            "Epoch 1/10\n",
            "\u001b[1m363/363\u001b[0m \u001b[32m━━━━━━━━━━━━━━━━━━━━\u001b[0m\u001b[37m\u001b[0m \u001b[1m6s\u001b[0m 11ms/step - RootMeanSquaredError: 0.6046 - RootMeanSquaredError_1: 0.6752 - loss: 0.3747 - mse_loss: 0.4559 - val_RootMeanSquaredError: 1.1359 - val_RootMeanSquaredError_1: 1.0161 - val_loss: 1.2644 - val_mse_loss: 1.0321\n",
            "Epoch 2/10\n",
            "\u001b[1m363/363\u001b[0m \u001b[32m━━━━━━━━━━━━━━━━━━━━\u001b[0m\u001b[37m\u001b[0m \u001b[1m1s\u001b[0m 3ms/step - RootMeanSquaredError: 0.6001 - RootMeanSquaredError_1: 0.6658 - loss: 0.3685 - mse_loss: 0.4434 - val_RootMeanSquaredError: 1.2808 - val_RootMeanSquaredError_1: 1.5725 - val_loss: 1.7238 - val_mse_loss: 2.4718\n",
            "Epoch 3/10\n",
            "\u001b[1m363/363\u001b[0m \u001b[32m━━━━━━━━━━━━━━━━━━━━\u001b[0m\u001b[37m\u001b[0m \u001b[1m1s\u001b[0m 3ms/step - RootMeanSquaredError: 0.5965 - RootMeanSquaredError_1: 0.6612 - loss: 0.3640 - mse_loss: 0.4373 - val_RootMeanSquaredError: 0.9629 - val_RootMeanSquaredError_1: 0.9258 - val_loss: 0.9203 - val_mse_loss: 0.8569\n",
            "Epoch 4/10\n",
            "\u001b[1m363/363\u001b[0m \u001b[32m━━━━━━━━━━━━━━━━━━━━\u001b[0m\u001b[37m\u001b[0m \u001b[1m1s\u001b[0m 3ms/step - RootMeanSquaredError: 0.5916 - RootMeanSquaredError_1: 0.6535 - loss: 0.3578 - mse_loss: 0.4272 - val_RootMeanSquaredError: 1.0625 - val_RootMeanSquaredError_1: 0.9925 - val_loss: 1.1146 - val_mse_loss: 0.9847\n",
            "Epoch 5/10\n",
            "\u001b[1m363/363\u001b[0m \u001b[32m━━━━━━━━━━━━━━━━━━━━\u001b[0m\u001b[37m\u001b[0m \u001b[1m1s\u001b[0m 3ms/step - RootMeanSquaredError: 0.5890 - RootMeanSquaredError_1: 0.6478 - loss: 0.3543 - mse_loss: 0.4197 - val_RootMeanSquaredError: 0.8050 - val_RootMeanSquaredError_1: 0.7200 - val_loss: 0.6351 - val_mse_loss: 0.5183\n",
            "Epoch 6/10\n",
            "\u001b[1m363/363\u001b[0m \u001b[32m━━━━━━━━━━━━━━━━━━━━\u001b[0m\u001b[37m\u001b[0m \u001b[1m3s\u001b[0m 3ms/step - RootMeanSquaredError: 0.5855 - RootMeanSquaredError_1: 0.6430 - loss: 0.3499 - mse_loss: 0.4135 - val_RootMeanSquaredError: 1.2038 - val_RootMeanSquaredError_1: 1.2895 - val_loss: 1.4704 - val_mse_loss: 1.6621\n",
            "Epoch 7/10\n",
            "\u001b[1m363/363\u001b[0m \u001b[32m━━━━━━━━━━━━━━━━━━━━\u001b[0m\u001b[37m\u001b[0m \u001b[1m2s\u001b[0m 5ms/step - RootMeanSquaredError: 0.5847 - RootMeanSquaredError_1: 0.6408 - loss: 0.3489 - mse_loss: 0.4107 - val_RootMeanSquaredError: 0.9791 - val_RootMeanSquaredError_1: 0.8455 - val_loss: 0.9342 - val_mse_loss: 0.7147\n",
            "Epoch 8/10\n",
            "\u001b[1m363/363\u001b[0m \u001b[32m━━━━━━━━━━━━━━━━━━━━\u001b[0m\u001b[37m\u001b[0m \u001b[1m2s\u001b[0m 3ms/step - RootMeanSquaredError: 0.5830 - RootMeanSquaredError_1: 0.6371 - loss: 0.3466 - mse_loss: 0.4060 - val_RootMeanSquaredError: 1.2614 - val_RootMeanSquaredError_1: 1.5353 - val_loss: 1.6676 - val_mse_loss: 2.3561\n",
            "Epoch 9/10\n",
            "\u001b[1m363/363\u001b[0m \u001b[32m━━━━━━━━━━━━━━━━━━━━\u001b[0m\u001b[37m\u001b[0m \u001b[1m1s\u001b[0m 3ms/step - RootMeanSquaredError: 0.5809 - RootMeanSquaredError_1: 0.6353 - loss: 0.3442 - mse_loss: 0.4037 - val_RootMeanSquaredError: 0.7755 - val_RootMeanSquaredError_1: 0.8132 - val_loss: 0.6074 - val_mse_loss: 0.6611\n",
            "Epoch 10/10\n",
            "\u001b[1m363/363\u001b[0m \u001b[32m━━━━━━━━━━━━━━━━━━━━\u001b[0m\u001b[37m\u001b[0m \u001b[1m2s\u001b[0m 4ms/step - RootMeanSquaredError: 0.5774 - RootMeanSquaredError_1: 0.6303 - loss: 0.3399 - mse_loss: 0.3973 - val_RootMeanSquaredError: 0.9678 - val_RootMeanSquaredError_1: 1.0552 - val_loss: 0.9543 - val_mse_loss: 1.1130\n"
          ]
        }
      ]
    },
    {
      "cell_type": "code",
      "source": [
        "early_stopping_cb = tf.keras.callbacks.EarlyStopping(patience=10,\n",
        "                                                     restore_best_weights=True)\n",
        "history = model.fit(\n",
        "    (X_train_wide, X_train_deep), (y_train, y_train), epochs=100,\n",
        "    validation_data=((X_valid_wide, X_valid_deep), (y_valid, y_valid)),\n",
        "    callbacks=[checkpoint_cb, early_stopping_cb])"
      ],
      "metadata": {
        "colab": {
          "base_uri": "https://localhost:8080/"
        },
        "id": "CoYo1aX2ASV3",
        "outputId": "7ea082ac-2afb-4fbd-f384-3a4cc8072206"
      },
      "execution_count": null,
      "outputs": [
        {
          "output_type": "stream",
          "name": "stdout",
          "text": [
            "Epoch 1/100\n",
            "\u001b[1m363/363\u001b[0m \u001b[32m━━━━━━━━━━━━━━━━━━━━\u001b[0m\u001b[37m\u001b[0m \u001b[1m1s\u001b[0m 4ms/step - RootMeanSquaredError: 0.5749 - RootMeanSquaredError_1: 0.6270 - loss: 0.3369 - mse_loss: 0.3932 - val_RootMeanSquaredError: 0.6169 - val_RootMeanSquaredError_1: 0.6381 - val_loss: 0.3832 - val_mse_loss: 0.4071\n",
            "Epoch 2/100\n",
            "\u001b[1m363/363\u001b[0m \u001b[32m━━━━━━━━━━━━━━━━━━━━\u001b[0m\u001b[37m\u001b[0m \u001b[1m1s\u001b[0m 3ms/step - RootMeanSquaredError: 0.5723 - RootMeanSquaredError_1: 0.6245 - loss: 0.3338 - mse_loss: 0.3900 - val_RootMeanSquaredError: 0.8794 - val_RootMeanSquaredError_1: 1.0350 - val_loss: 0.8031 - val_mse_loss: 1.0707\n",
            "Epoch 3/100\n",
            "\u001b[1m363/363\u001b[0m \u001b[32m━━━━━━━━━━━━━━━━━━━━\u001b[0m\u001b[37m\u001b[0m \u001b[1m1s\u001b[0m 3ms/step - RootMeanSquaredError: 0.5704 - RootMeanSquaredError_1: 0.6221 - loss: 0.3316 - mse_loss: 0.3871 - val_RootMeanSquaredError: 0.6743 - val_RootMeanSquaredError_1: 0.6951 - val_loss: 0.4575 - val_mse_loss: 0.4831\n",
            "Epoch 4/100\n",
            "\u001b[1m363/363\u001b[0m \u001b[32m━━━━━━━━━━━━━━━━━━━━\u001b[0m\u001b[37m\u001b[0m \u001b[1m2s\u001b[0m 5ms/step - RootMeanSquaredError: 0.5694 - RootMeanSquaredError_1: 0.6209 - loss: 0.3305 - mse_loss: 0.3856 - val_RootMeanSquaredError: 1.0960 - val_RootMeanSquaredError_1: 1.1512 - val_loss: 1.2137 - val_mse_loss: 1.3249\n",
            "Epoch 5/100\n",
            "\u001b[1m363/363\u001b[0m \u001b[32m━━━━━━━━━━━━━━━━━━━━\u001b[0m\u001b[37m\u001b[0m \u001b[1m2s\u001b[0m 4ms/step - RootMeanSquaredError: 0.5684 - RootMeanSquaredError_1: 0.6188 - loss: 0.3292 - mse_loss: 0.3830 - val_RootMeanSquaredError: 0.8649 - val_RootMeanSquaredError_1: 0.7795 - val_loss: 0.7340 - val_mse_loss: 0.6074\n",
            "Epoch 6/100\n",
            "\u001b[1m363/363\u001b[0m \u001b[32m━━━━━━━━━━━━━━━━━━━━\u001b[0m\u001b[37m\u001b[0m \u001b[1m1s\u001b[0m 4ms/step - RootMeanSquaredError: 0.5675 - RootMeanSquaredError_1: 0.6173 - loss: 0.3281 - mse_loss: 0.3812 - val_RootMeanSquaredError: 0.9094 - val_RootMeanSquaredError_1: 0.9108 - val_loss: 0.8272 - val_mse_loss: 0.8292\n",
            "Epoch 7/100\n",
            "\u001b[1m363/363\u001b[0m \u001b[32m━━━━━━━━━━━━━━━━━━━━\u001b[0m\u001b[37m\u001b[0m \u001b[1m3s\u001b[0m 4ms/step - RootMeanSquaredError: 0.5649 - RootMeanSquaredError_1: 0.6137 - loss: 0.3249 - mse_loss: 0.3766 - val_RootMeanSquaredError: 0.5794 - val_RootMeanSquaredError_1: 0.6141 - val_loss: 0.3399 - val_mse_loss: 0.3770\n",
            "Epoch 8/100\n",
            "\u001b[1m363/363\u001b[0m \u001b[32m━━━━━━━━━━━━━━━━━━━━\u001b[0m\u001b[37m\u001b[0m \u001b[1m3s\u001b[0m 3ms/step - RootMeanSquaredError: 0.5642 - RootMeanSquaredError_1: 0.6145 - loss: 0.3244 - mse_loss: 0.3777 - val_RootMeanSquaredError: 0.6969 - val_RootMeanSquaredError_1: 0.8081 - val_loss: 0.5025 - val_mse_loss: 0.6528\n",
            "Epoch 9/100\n",
            "\u001b[1m363/363\u001b[0m \u001b[32m━━━━━━━━━━━━━━━━━━━━\u001b[0m\u001b[37m\u001b[0m \u001b[1m1s\u001b[0m 3ms/step - RootMeanSquaredError: 0.5611 - RootMeanSquaredError_1: 0.6084 - loss: 0.3204 - mse_loss: 0.3702 - val_RootMeanSquaredError: 0.5527 - val_RootMeanSquaredError_1: 0.6023 - val_loss: 0.3112 - val_mse_loss: 0.3627\n",
            "Epoch 10/100\n",
            "\u001b[1m363/363\u001b[0m \u001b[32m━━━━━━━━━━━━━━━━━━━━\u001b[0m\u001b[37m\u001b[0m \u001b[1m1s\u001b[0m 4ms/step - RootMeanSquaredError: 0.5600 - RootMeanSquaredError_1: 0.6076 - loss: 0.3192 - mse_loss: 0.3692 - val_RootMeanSquaredError: 0.6944 - val_RootMeanSquaredError_1: 0.7924 - val_loss: 0.4968 - val_mse_loss: 0.6278\n",
            "Epoch 11/100\n",
            "\u001b[1m363/363\u001b[0m \u001b[32m━━━━━━━━━━━━━━━━━━━━\u001b[0m\u001b[37m\u001b[0m \u001b[1m2s\u001b[0m 5ms/step - RootMeanSquaredError: 0.5591 - RootMeanSquaredError_1: 0.6060 - loss: 0.3182 - mse_loss: 0.3673 - val_RootMeanSquaredError: 0.5969 - val_RootMeanSquaredError_1: 0.6032 - val_loss: 0.3571 - val_mse_loss: 0.3638\n",
            "Epoch 12/100\n",
            "\u001b[1m363/363\u001b[0m \u001b[32m━━━━━━━━━━━━━━━━━━━━\u001b[0m\u001b[37m\u001b[0m \u001b[1m2s\u001b[0m 3ms/step - RootMeanSquaredError: 0.5586 - RootMeanSquaredError_1: 0.6049 - loss: 0.3175 - mse_loss: 0.3659 - val_RootMeanSquaredError: 0.8531 - val_RootMeanSquaredError_1: 0.9960 - val_loss: 0.7542 - val_mse_loss: 0.9917\n",
            "Epoch 13/100\n",
            "\u001b[1m363/363\u001b[0m \u001b[32m━━━━━━━━━━━━━━━━━━━━\u001b[0m\u001b[37m\u001b[0m \u001b[1m1s\u001b[0m 3ms/step - RootMeanSquaredError: 0.5581 - RootMeanSquaredError_1: 0.6042 - loss: 0.3169 - mse_loss: 0.3651 - val_RootMeanSquaredError: 0.6473 - val_RootMeanSquaredError_1: 0.6671 - val_loss: 0.4216 - val_mse_loss: 0.4450\n",
            "Epoch 14/100\n",
            "\u001b[1m363/363\u001b[0m \u001b[32m━━━━━━━━━━━━━━━━━━━━\u001b[0m\u001b[37m\u001b[0m \u001b[1m1s\u001b[0m 3ms/step - RootMeanSquaredError: 0.5569 - RootMeanSquaredError_1: 0.6028 - loss: 0.3155 - mse_loss: 0.3635 - val_RootMeanSquaredError: 1.1578 - val_RootMeanSquaredError_1: 1.3757 - val_loss: 1.3957 - val_mse_loss: 1.8916\n",
            "Epoch 15/100\n",
            "\u001b[1m363/363\u001b[0m \u001b[32m━━━━━━━━━━━━━━━━━━━━\u001b[0m\u001b[37m\u001b[0m \u001b[1m1s\u001b[0m 3ms/step - RootMeanSquaredError: 0.5584 - RootMeanSquaredError_1: 0.6026 - loss: 0.3170 - mse_loss: 0.3633 - val_RootMeanSquaredError: 0.7567 - val_RootMeanSquaredError_1: 0.7490 - val_loss: 0.5714 - val_mse_loss: 0.5608\n",
            "Epoch 16/100\n",
            "\u001b[1m363/363\u001b[0m \u001b[32m━━━━━━━━━━━━━━━━━━━━\u001b[0m\u001b[37m\u001b[0m \u001b[1m1s\u001b[0m 3ms/step - RootMeanSquaredError: 0.5567 - RootMeanSquaredError_1: 0.6008 - loss: 0.3151 - mse_loss: 0.3610 - val_RootMeanSquaredError: 0.6659 - val_RootMeanSquaredError_1: 0.6791 - val_loss: 0.4452 - val_mse_loss: 0.4610\n",
            "Epoch 17/100\n",
            "\u001b[1m363/363\u001b[0m \u001b[32m━━━━━━━━━━━━━━━━━━━━\u001b[0m\u001b[37m\u001b[0m \u001b[1m3s\u001b[0m 3ms/step - RootMeanSquaredError: 0.5547 - RootMeanSquaredError_1: 0.5983 - loss: 0.3129 - mse_loss: 0.3581 - val_RootMeanSquaredError: 0.5563 - val_RootMeanSquaredError_1: 0.6390 - val_loss: 0.3194 - val_mse_loss: 0.4083\n",
            "Epoch 18/100\n",
            "\u001b[1m363/363\u001b[0m \u001b[32m━━━━━━━━━━━━━━━━━━━━\u001b[0m\u001b[37m\u001b[0m \u001b[1m2s\u001b[0m 5ms/step - RootMeanSquaredError: 0.5528 - RootMeanSquaredError_1: 0.5959 - loss: 0.3106 - mse_loss: 0.3552 - val_RootMeanSquaredError: 0.5763 - val_RootMeanSquaredError_1: 0.6730 - val_loss: 0.3442 - val_mse_loss: 0.4529\n",
            "Epoch 19/100\n",
            "\u001b[1m363/363\u001b[0m \u001b[32m━━━━━━━━━━━━━━━━━━━━\u001b[0m\u001b[37m\u001b[0m \u001b[1m2s\u001b[0m 4ms/step - RootMeanSquaredError: 0.5519 - RootMeanSquaredError_1: 0.5945 - loss: 0.3095 - mse_loss: 0.3535 - val_RootMeanSquaredError: 0.5562 - val_RootMeanSquaredError_1: 0.6474 - val_loss: 0.3203 - val_mse_loss: 0.4191\n"
          ]
        }
      ]
    },
    {
      "cell_type": "code",
      "source": [
        "class PrintValTrainRatioCallback(tf.keras.callbacks.Callback):\n",
        "    def on_epoch_end(self, epoch, logs):\n",
        "        ratio = logs[\"val_loss\"] / logs[\"loss\"]\n",
        "        print(f\"Epoch={epoch}, val/train={ratio:.2f}\")"
      ],
      "metadata": {
        "id": "8-G7Z4y0AU7K"
      },
      "execution_count": null,
      "outputs": []
    },
    {
      "cell_type": "code",
      "source": [
        "val_train_ratio_cb = PrintValTrainRatioCallback()\n",
        "history = model.fit(\n",
        "    (X_train_wide, X_train_deep), (y_train, y_train), epochs=10,\n",
        "    validation_data=((X_valid_wide, X_valid_deep), (y_valid, y_valid)),\n",
        "    callbacks=[val_train_ratio_cb], verbose=0)"
      ],
      "metadata": {
        "colab": {
          "base_uri": "https://localhost:8080/"
        },
        "id": "gkNzw1_8AarF",
        "outputId": "05c5554c-7cf6-48dd-a68e-d4dba089e0fa"
      },
      "execution_count": null,
      "outputs": [
        {
          "output_type": "stream",
          "name": "stdout",
          "text": [
            "Epoch=0, val/train=1.60\n",
            "Epoch=1, val/train=1.66\n",
            "Epoch=2, val/train=3.69\n",
            "Epoch=3, val/train=1.44\n",
            "Epoch=4, val/train=2.46\n",
            "Epoch=5, val/train=1.15\n",
            "Epoch=6, val/train=2.20\n",
            "Epoch=7, val/train=1.36\n",
            "Epoch=8, val/train=1.84\n",
            "Epoch=9, val/train=0.98\n"
          ]
        }
      ]
    }
  ]
}